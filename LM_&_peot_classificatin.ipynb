{
  "nbformat": 4,
  "nbformat_minor": 0,
  "metadata": {
    "colab": {
      "name": "LM & peot classificatin.ipynb",
      "provenance": [],
      "collapsed_sections": []
    },
    "kernelspec": {
      "name": "python3",
      "display_name": "Python 3"
    },
    "language_info": {
      "name": "python"
    }
  },
  "cells": [
    {
      "cell_type": "markdown",
      "metadata": {
        "id": "-zc0RcRv1UbE"
      },
      "source": [
        "**Imports**"
      ]
    },
    {
      "cell_type": "code",
      "metadata": {
        "id": "Ka1xc4Ip1ir0"
      },
      "source": [
        "!pip install hazm"
      ],
      "execution_count": null,
      "outputs": []
    },
    {
      "cell_type": "code",
      "metadata": {
        "id": "xkZbgtDH1VlA"
      },
      "source": [
        "import numpy as np\n",
        "import pandas as pd\n",
        "import matplotlib.pyplot as plt\n",
        "from hazm import word_tokenize\n",
        "from heapq import nlargest"
      ],
      "execution_count": null,
      "outputs": []
    },
    {
      "cell_type": "markdown",
      "metadata": {
        "id": "979hxCXHHbTy"
      },
      "source": [
        "# Section 1"
      ]
    },
    {
      "cell_type": "markdown",
      "metadata": {
        "id": "Si6mrj3Yf8aj"
      },
      "source": [
        "**Tokenizer functions**"
      ]
    },
    {
      "cell_type": "code",
      "metadata": {
        "id": "eedgb37y1wiX"
      },
      "source": [
        "def unigram_line(line):\n",
        "  return [word for word in word_tokenize(line)]\n",
        "\n",
        "def bigram_line(line):\n",
        "  bi=[]\n",
        "  text = [word for word in word_tokenize(line)]\n",
        "  for i in range(len(text)-1):\n",
        "      bi.append(text[i] + ' ' + text[i+1])\n",
        "  return bi"
      ],
      "execution_count": null,
      "outputs": []
    },
    {
      "cell_type": "markdown",
      "metadata": {
        "id": "-jmHWrT_2ILm"
      },
      "source": [
        "**Preparing Data**\n",
        "\n",
        "this function make a dictionary that contain all we need from data in following sections"
      ]
    },
    {
      "cell_type": "code",
      "metadata": {
        "id": "KPxnsKn62b9I"
      },
      "source": [
        "def prepare_data(add):\n",
        "  data= {'all': {'bigrams' : [] , 'unigrams' : [] ,'beyt' : [] , 'bigram_count':{} , 'unigram_count':{} }}\n",
        "  poets = []\n",
        "  with open( add ,  encoding = 'UTF-8') as file:\n",
        "    data_lines = file.readlines()\n",
        "  for i in range(0,len(data_lines) , 3):\n",
        "    if data_lines[i][:-1] not in poets: \n",
        "      poets.append(data_lines[i][:-1])\n",
        "      data[data_lines[i][:-1]] = {'bigrams' : [] , 'unigrams' : [] ,'beyt' : [] , \n",
        "                                  'bigram_count':{} , 'unigram_count':{} }\n",
        "    data[data_lines[i][:-1]]['beyt'] += [[data_lines[i+1][:-1] , data_lines[i+2][:-1]]]\n",
        "    data['all']['beyt'] += [[data_lines[i+1][:-1] , data_lines[i+2][:-1]]]\n",
        "\n",
        "    tokens =[]\n",
        "    tokens += word_tokenize(data_lines[i+1][:-1])\n",
        "    tokens += word_tokenize(data_lines[i+2][:-1])\n",
        "    tokens_set = list(set(tokens))\n",
        "    for w in tokens:\n",
        "      if w in data['all']['unigram_count']:\n",
        "        data['all']['unigram_count'][w] +=1\n",
        "      else :\n",
        "        data['all']['unigram_count'][w] =1\n",
        "\n",
        "      if w in data[data_lines[i][:-1]]['unigram_count']:\n",
        "        data[data_lines[i][:-1]]['unigram_count'][w] +=1\n",
        "      else: \n",
        "        data[data_lines[i][:-1]]['unigram_count'][w] =1\n",
        "\n",
        "    data[data_lines[i][:-1]]['unigrams'] += tokens\n",
        "    data['all']['unigrams'] += tokens\n",
        "\n",
        "    for mes in range(2):\n",
        "      tokens =[]\n",
        "      tokens += word_tokenize(data_lines[i+1+mes][:-1])\n",
        "      for idx in range(len(tokens)-1):\n",
        "        new_bi = tokens[idx] + ' ' + tokens[idx+1]\n",
        "        if new_bi in data['all']['bigram_count']:\n",
        "          data['all']['bigram_count'][new_bi] +=1\n",
        "        else :\n",
        "          data['all']['bigram_count'][new_bi] =1\n",
        "\n",
        "        if new_bi in data[data_lines[i][:-1]]['bigram_count']:\n",
        "          data[data_lines[i][:-1]]['bigram_count'][new_bi] +=1\n",
        "        else: \n",
        "          data[data_lines[i][:-1]]['bigram_count'][new_bi] =1\n",
        "\n",
        "        data[data_lines[i][:-1]]['bigrams'].append(new_bi)\n",
        "        data['all']['bigrams'].append(new_bi)\n",
        "  return data\n"
      ],
      "execution_count": null,
      "outputs": []
    },
    {
      "cell_type": "markdown",
      "metadata": {
        "id": "a_-ZOLIeBDqx"
      },
      "source": [
        "reading train , validation and test data"
      ]
    },
    {
      "cell_type": "code",
      "metadata": {
        "colab": {
          "base_uri": "https://localhost:8080/"
        },
        "id": "aebtqm4lBI4R",
        "outputId": "49c0fd34-25c4-4acd-fbf1-3c5fe375ad1e"
      },
      "source": [
        "from google.colab import drive\n",
        "drive.mount('/content/drive')\n",
        "\n",
        "train_data = prepare_data('/content/drive/MyDrive/nlp/HW1/train.txt')\n",
        "val_data = prepare_data('/content/drive/MyDrive/nlp/HW1/valid.txt')\n",
        "test_data = prepare_data ('/content/drive/MyDrive/nlp/HW1/test.txt')"
      ],
      "execution_count": null,
      "outputs": [
        {
          "output_type": "stream",
          "text": [
            "Drive already mounted at /content/drive; to attempt to forcibly remount, call drive.mount(\"/content/drive\", force_remount=True).\n"
          ],
          "name": "stdout"
        }
      ]
    },
    {
      "cell_type": "code",
      "metadata": {
        "colab": {
          "base_uri": "https://localhost:8080/"
        },
        "id": "ZOh2_b25ArR6",
        "outputId": "dbea549e-5a75-4868-8aac-21d69bb31612"
      },
      "source": [
        "print(train_data['all']['bigram_count']['ای دل'])\n",
        "print(train_data['bahar']['bigram_count']['ای دل'])"
      ],
      "execution_count": null,
      "outputs": [
        {
          "output_type": "stream",
          "text": [
            "187\n",
            "26\n"
          ],
          "name": "stdout"
        }
      ]
    },
    {
      "cell_type": "markdown",
      "metadata": {
        "id": "mCy0kHoTHHy0"
      },
      "source": [
        "# Section 2\n",
        "\n"
      ]
    },
    {
      "cell_type": "markdown",
      "metadata": {
        "id": "6i61qEqkCteu"
      },
      "source": [
        "**A**\n",
        "\n",
        "unigram language model"
      ]
    },
    {
      "cell_type": "code",
      "metadata": {
        "id": "thUX2G_VFZWI"
      },
      "source": [
        "all_vocab = len(train_data['all']['unigrams'])             ###### number of all words in train data\n",
        "vocab_size = len(set(train_data['all']['unigrams']))       ###### number of unique words in train data"
      ],
      "execution_count": null,
      "outputs": []
    },
    {
      "cell_type": "code",
      "metadata": {
        "colab": {
          "base_uri": "https://localhost:8080/"
        },
        "id": "iLKwwikTFfvO",
        "outputId": "37457090-227f-4259-aa1f-20b4fb0b5741"
      },
      "source": [
        "def Simple_Unigram_Perplexity(beyt):\n",
        "  per_list=[]\n",
        "  prob = 1\n",
        "  tok=[]\n",
        "  tok += word_tokenize(beyt[0])\n",
        "  tok += word_tokenize(beyt[1])\n",
        "  for t in tok:\n",
        "    try :\n",
        "      C_unigram = train_data['all']['unigram_count'][t]  \n",
        "      prob *= (C_unigram  / all_vocab ) \n",
        "    except :\n",
        "      prob *= ( 1  / vocab_size ) \n",
        "\n",
        "  len_beyt = len(tok)\n",
        "  perplexity = prob ** (-1 / len_beyt)\n",
        "\n",
        "  return perplexity\n",
        "\n",
        "simple_unigram_perplexity_list=[]\n",
        "for w in test_data['all']['beyt']:\n",
        "  simple_unigram_perplexity_list.append(Simple_Unigram_Perplexity(w))\n",
        "    \n",
        "np.mean(simple_unigram_perplexity_list)"
      ],
      "execution_count": null,
      "outputs": [
        {
          "output_type": "execute_result",
          "data": {
            "text/plain": [
              "2694.8088633530874"
            ]
          },
          "metadata": {
            "tags": []
          },
          "execution_count": 9
        }
      ]
    },
    {
      "cell_type": "markdown",
      "metadata": {
        "id": "MaQLiXIKgR_I"
      },
      "source": [
        "Unigram Language Model with Absolute Discounting"
      ]
    },
    {
      "cell_type": "code",
      "metadata": {
        "colab": {
          "base_uri": "https://localhost:8080/"
        },
        "id": "tl2hUvl9CYEW",
        "outputId": "0b7e9e0b-5fbb-4337-8f2a-949821709ee6"
      },
      "source": [
        "def Unigram_Perplexity(beyt , delta = 0.5):\n",
        "  per_list=[]\n",
        "  prob = 1\n",
        "  tok=[]\n",
        "  tok += word_tokenize(beyt[0])\n",
        "  tok += word_tokenize(beyt[1])\n",
        "  B = 1\n",
        "  for t in tok:\n",
        "    try :\n",
        "      train_data['all']['unigram_count'][t]\n",
        "      B += 1\n",
        "    except : pass\n",
        "  for t in tok:\n",
        "      try :\n",
        "        C_unigram = train_data['all']['unigram_count'][t]\n",
        "        prob *= (max((C_unigram - delta) , 0) / all_vocab ) \n",
        "      except :\n",
        "        prob *= ((delta * B ) / ( len(tok) * vocab_size))\n",
        "\n",
        "  len_beyt = len(tok)\n",
        "  perplexity = prob ** (-1 / len_beyt)\n",
        "  return perplexity\n",
        "\n",
        "unigram_perplexity_list=[]\n",
        "for w in val_data['all']['beyt']:\n",
        "  unigram_perplexity_list.append(Unigram_Perplexity(w , delta= 0.8))\n",
        "    \n",
        "np.mean(unigram_perplexity_list)"
      ],
      "execution_count": null,
      "outputs": [
        {
          "output_type": "execute_result",
          "data": {
            "text/plain": [
              "3008.4601860638077"
            ]
          },
          "metadata": {
            "tags": []
          },
          "execution_count": 11
        }
      ]
    },
    {
      "cell_type": "markdown",
      "metadata": {
        "id": "MK6VWxqEglSr"
      },
      "source": [
        "finding best delta for unigram model"
      ]
    },
    {
      "cell_type": "code",
      "metadata": {
        "colab": {
          "base_uri": "https://localhost:8080/",
          "height": 362
        },
        "id": "G4w4GrfeDnnj",
        "outputId": "c3761c4b-a955-40f8-ace0-517f2e0b78d0"
      },
      "source": [
        "delta_list = list(np.arange(0.02 ,1 , 0.02))\n",
        "delta_per=[]\n",
        "for d in delta_list : \n",
        "    unigram_perplexity_list=[]\n",
        "    for w in val_data['all']['beyt']:\n",
        "        unigram_perplexity_list.append(Unigram_Perplexity(w , delta = d))\n",
        "    delta_per.append(np.mean(unigram_perplexity_list))\n",
        "\n",
        "print(f' best delta for unigram model is : {delta_list[np.argmin(delta_per)]} ')\n",
        "print('   ')\n",
        "print('   ')\n",
        "print('   ')\n",
        "fig, ax = plt.subplots()\n",
        "ax.plot(delta_list , delta_per)\n",
        "ax.set(xlabel='Delta', ylabel='Perplexity',\n",
        "       title='Optimum delta in Unigram Language Model')\n",
        "ax.grid()\n",
        "plt.show()"
      ],
      "execution_count": null,
      "outputs": [
        {
          "output_type": "stream",
          "text": [
            " best delta for unigram model is : 0.54 \n",
            "   \n",
            "   \n",
            "   \n"
          ],
          "name": "stdout"
        },
        {
          "output_type": "display_data",
          "data": {
            "image/png": "[encoded data removed]",
            "text/plain": [
              "<Figure size 432x288 with 1 Axes>"
            ]
          },
          "metadata": {
            "tags": [],
            "needs_background": "light"
          }
        }
      ]
    },
    {
      "cell_type": "markdown",
      "metadata": {
        "id": "-qi65duUDVRK"
      },
      "source": [
        "Bigram Language Model"
      ]
    },
    {
      "cell_type": "code",
      "metadata": {
        "colab": {
          "base_uri": "https://localhost:8080/"
        },
        "id": "pKv_NJ0MDaVJ",
        "outputId": "fc018cd6-43ff-44ab-f0c5-fe85dd404383"
      },
      "source": [
        "def Bigram_Perplexity(beyt , delta):\n",
        "  per_list=[]\n",
        "  tok = []\n",
        "  tok += bigram_line(beyt[0])\n",
        "  tok += bigram_line(beyt[1])  \n",
        "  prob = 1\n",
        "  B = 1\n",
        "  for t in tok:\n",
        "    try :\n",
        "      train_data['all']['bigram_count'][t]\n",
        "      B += 1\n",
        "    except : pass\n",
        "  for t in tok:\n",
        "    token = unigram_line(t)\n",
        "    try: \n",
        "      c_bi = train_data['all']['bigram_count'][t]\n",
        "      c_token = train_data['all']['unigram_count'][token[0]]\n",
        "      prob *= (max((c_bi - delta) , 0) / c_token)  + ((delta * B * c_unigram) / (c_token * all_vocab))\n",
        "\n",
        "    except : \n",
        "      try : \n",
        "        c_unigram = train_data['all']['unigram_count'][token[1]]\n",
        "        c_token = 1\n",
        "        prob *=  ((delta * B * c_unigram) / (c_token * all_vocab))\n",
        "      except :\n",
        "        prob *= 1 / vocab_size\n",
        "              \n",
        "  len_beyt = len(tok)\n",
        "  perplexity = prob ** (-1 / (len_beyt))\n",
        "\n",
        "  return perplexity\n",
        "\n",
        "\n",
        "bigram_perplexity_list=[]\n",
        "\n",
        "for w in val_data['all']['beyt']:\n",
        "    bigram_perplexity_list.append(bi_perplexity(w , delta = 0.5))\n",
        "    \n",
        "np.mean(bigram_perplexity_list)\n",
        "\n",
        "    "
      ],
      "execution_count": null,
      "outputs": [
        {
          "output_type": "execute_result",
          "data": {
            "text/plain": [
              "1419.6438094799328"
            ]
          },
          "metadata": {
            "tags": []
          },
          "execution_count": 22
        }
      ]
    },
    {
      "cell_type": "markdown",
      "metadata": {
        "id": "yo-dI0oFg5dV"
      },
      "source": [
        "finding best delta for bigram language model"
      ]
    },
    {
      "cell_type": "code",
      "metadata": {
        "colab": {
          "base_uri": "https://localhost:8080/",
          "height": 362
        },
        "id": "MzuEELrkMrdg",
        "outputId": "6eddfcf7-872a-4c63-d24e-e30371b3f68f"
      },
      "source": [
        "delta_list = list(np.arange(0.4 ,2.4 , 0.04))\n",
        "delta_per_bi=[]\n",
        "for d in delta_list : \n",
        "    bigram_perplexity_list=[]\n",
        "    for w in val_data['all']['beyt']:\n",
        "        bigram_perplexity_list.append(Bigram_Perplexity(w , delta = d))\n",
        "    delta_per_bi.append(np.mean(bigram_perplexity_list))\n",
        "\n",
        "print(f' best delta for bigram model is : {delta_list[np.argmin(delta_per_bi)]} ')\n",
        "print('   ')\n",
        "print('   ')\n",
        "print('   ')\n",
        "fig, ax = plt.subplots()\n",
        "ax.plot(delta_list , delta_per_bi)\n",
        "ax.set(xlabel='Delta', ylabel='Perplexity',\n",
        "       title='Optimum delta in Bigram Language Model')\n",
        "ax.grid()\n",
        "plt.show()"
      ],
      "execution_count": null,
      "outputs": [
        {
          "output_type": "stream",
          "text": [
            " best delta for bigram model is : 0.8799999999999998 \n",
            "   \n",
            "   \n",
            "   \n"
          ],
          "name": "stdout"
        },
        {
          "output_type": "display_data",
          "data": {
            "image/png": "[encoded data removed]",
            "text/plain": [
              "<Figure size 432x288 with 1 Axes>"
            ]
          },
          "metadata": {
            "tags": [],
            "needs_background": "light"
          }
        }
      ]
    },
    {
      "cell_type": "markdown",
      "metadata": {
        "id": "bEhxYYPahRjc"
      },
      "source": [
        "Perplexity with optimum delta"
      ]
    },
    {
      "cell_type": "code",
      "metadata": {
        "colab": {
          "base_uri": "https://localhost:8080/"
        },
        "id": "S0sKeVULOPoY",
        "outputId": "964aee61-6f76-42e1-ca92-a12aa00ab2b8"
      },
      "source": [
        "unigram_perplexity_list=[]\n",
        "for w in val_data['all']['beyt']:\n",
        "  unigram_perplexity_list.append(Unigram_Perplexity(w , delta= 0.54))\n",
        "    \n",
        "print(f'Perplexity of Unigram model : {np.mean(unigram_perplexity_list)}')\n",
        "print('    ')\n",
        "\n",
        "bigram_perplexity_list=[]\n",
        "for w in val_data['all']['beyt']:\n",
        "    bigram_perplexity_list.append(bi_perplexity(w , delta = 0.88))\n",
        "\n",
        "print(f'Perplexity of Bigram model : {np.mean(bigram_perplexity_list)}')\n",
        "print('    ')\n",
        "\n"
      ],
      "execution_count": null,
      "outputs": [
        {
          "output_type": "stream",
          "text": [
            "Perplexity of Unigram model : 2963.503007977819\n",
            "    \n",
            "Perplexity of Bigram model : 1128.9539521654326\n",
            "    \n"
          ],
          "name": "stdout"
        }
      ]
    },
    {
      "cell_type": "markdown",
      "metadata": {
        "id": "KKzCJFA7LXkl"
      },
      "source": [
        "## Section  2-B"
      ]
    },
    {
      "cell_type": "code",
      "metadata": {
        "id": "ceKRjNlxLmJP"
      },
      "source": [
        "def prepare2_data(add , labels):\n",
        "    data= {'all': {'bigrams' : [] , 'unigrams' : [] ,'beyt' : [] , 'bigram_count':{} , 'unigram_count':{} }}\n",
        "    poets = []\n",
        "    with open( add ,  encoding = 'UTF-8') as file:\n",
        "        data_lines = file.readlines()\n",
        "    for i in range(0,len(data_lines) , 3):\n",
        "        if (data_lines[i][:-1] not in poets) and (data_lines[i][:-1] in labels) : \n",
        "            poets.append(data_lines[i][:-1])\n",
        "            data[data_lines[i][:-1]] = {'bigrams' : [] , 'unigrams' : [] ,'beyt' : [] , \n",
        "                                        'bigram_count':{} , 'unigram_count':{} }\n",
        "        if data_lines[i][:-1] in labels :\n",
        "            data[data_lines[i][:-1]]['beyt'] += [[data_lines[i+1][:-1] , data_lines[i+2][:-1]]]\n",
        "            data['all']['beyt'] += [[data_lines[i+1][:-1] , data_lines[i+2][:-1]]]\n",
        "\n",
        "            tokens =[]\n",
        "            tokens += word_tokenize(data_lines[i+1][:-1])\n",
        "            tokens += word_tokenize(data_lines[i+2][:-1])\n",
        "            tokens_set = list(set(tokens))\n",
        "            for w in tokens_set:\n",
        "                if w in data['all']['unigram_count']:\n",
        "                    data['all']['unigram_count'][w] +=1\n",
        "                else :\n",
        "                    data['all']['unigram_count'][w] =1\n",
        "\n",
        "                if w in data[data_lines[i][:-1]]['unigram_count']:\n",
        "                    data[data_lines[i][:-1]]['unigram_count'][w] +=1\n",
        "                else: \n",
        "                    data[data_lines[i][:-1]]['unigram_count'][w] =1\n",
        "\n",
        "            data[data_lines[i][:-1]]['unigrams'] += tokens\n",
        "            data['all']['unigrams'] += tokens\n",
        "\n",
        "            for mes in range(2):\n",
        "                tokens =[]\n",
        "                tokens += word_tokenize(data_lines[i+1+mes][:-1])\n",
        "                for idx in range(len(tokens)-1):\n",
        "                    new_bi = tokens[idx] + ' ' + tokens[idx+1]\n",
        "                    if new_bi in data['all']['bigram_count']:\n",
        "                        data['all']['bigram_count'][new_bi] +=1\n",
        "                    else :\n",
        "                        data['all']['bigram_count'][new_bi] =1\n",
        "\n",
        "                    if new_bi in data[data_lines[i][:-1]]['bigram_count']:\n",
        "                        data[data_lines[i][:-1]]['bigram_count'][new_bi] +=1\n",
        "                    else: \n",
        "                        data[data_lines[i][:-1]]['bigram_count'][new_bi] =1\n",
        "\n",
        "                    data[data_lines[i][:-1]]['bigrams'].append(new_bi)\n",
        "                    data['all']['bigrams'].append(new_bi)\n",
        "    return data\n"
      ],
      "execution_count": null,
      "outputs": []
    },
    {
      "cell_type": "markdown",
      "metadata": {
        "id": "VOtA1cPlhgaw"
      },
      "source": [
        "perplexity for each poet in unigram model"
      ]
    },
    {
      "cell_type": "code",
      "metadata": {
        "colab": {
          "base_uri": "https://localhost:8080/"
        },
        "id": "z0Ax29rnLdIu",
        "outputId": "3bede384-3120-42fe-f9df-007c28d4ae95"
      },
      "source": [
        "def Unigram_Perplexity(beyt , delta = 0.5):\n",
        "  per_list=[]\n",
        "  prob = 1\n",
        "  tok=[]\n",
        "  tok += word_tokenize(beyt[0])\n",
        "  tok += word_tokenize(beyt[1])\n",
        "  B = 1\n",
        "  for t in tok:\n",
        "    try :\n",
        "      train2_data['all']['unigram_count'][t]\n",
        "      B += 1\n",
        "    except : pass\n",
        "  for t in tok:\n",
        "      try :\n",
        "        C_unigram = train2_data['all']['unigram_count'][t]\n",
        "        prob *= (max((C_unigram - delta) , 1) / all_vocab ) \n",
        "      except :\n",
        "        #prob *= ((delta * B ) / ( len(tok) * vocab_size))\n",
        "        prob *= ( 1 /  vocab_size ) \n",
        "\n",
        "  len_beyt = len(tok)\n",
        "  perplexity = prob ** (-1 / (len_beyt * 1.25) )\n",
        "  return perplexity\n",
        "\n",
        "labels = ['moulavi' , 'amir' , 'sanaee' , 'ghaani' , 'bahar' , 'khosro']\n",
        "\n",
        "for l in labels:\n",
        "  train2_data = prepare2_data('/content/drive/MyDrive/nlp/HW1/train.txt' , [l])\n",
        "  test2_data = prepare2_data('/content/drive/MyDrive/nlp/HW1/test.txt' , [l])\n",
        "  unigram_perplexity_list=[]\n",
        "  for w in test2_data['all']['beyt']:\n",
        "    unigram_perplexity_list.append(Unigram_Perplexity(w , delta= 0.5)) \n",
        "  a = np.mean(unigram_perplexity_list)\n",
        "  print(f'Perplexity of {l} is :' + '{:f}'.format(a))"
      ],
      "execution_count": null,
      "outputs": [
        {
          "output_type": "stream",
          "text": [
            "Perplexity of moulavi is :1598.035806\n",
            "Perplexity of amir is :1441.837406\n",
            "Perplexity of sanaee is :1652.075321\n",
            "Perplexity of ghaani is :2143.182654\n",
            "Perplexity of bahar is :2504.933071\n",
            "Perplexity of khosro is :1354.065493\n"
          ],
          "name": "stdout"
        }
      ]
    },
    {
      "cell_type": "markdown",
      "metadata": {
        "id": "EjqkHZ73htTN"
      },
      "source": [
        "perplexity for each poet in bigram model"
      ]
    },
    {
      "cell_type": "code",
      "metadata": {
        "colab": {
          "base_uri": "https://localhost:8080/"
        },
        "id": "ifOqiNBTXYK7",
        "outputId": "b7e03d95-a8fb-49e5-cdf2-c6637e66ed0a"
      },
      "source": [
        "def Bigram_Perplexity(beyt , delta):\n",
        "  per_list=[]\n",
        "  tok = []\n",
        "  tok += bigram_line(beyt[0])\n",
        "  tok += bigram_line(beyt[1])  \n",
        "  prob = 1\n",
        "  B = 1\n",
        "  for t in tok:\n",
        "    try :\n",
        "      train2_data['all']['bigram_count'][t]\n",
        "      B += 1\n",
        "    except : pass\n",
        "  for t in tok:\n",
        "    token = unigram_line(t)\n",
        "    try: \n",
        "      c_bi = train2_data['all']['bigram_count'][t]\n",
        "      c_token = train2_data['all']['unigram_count'][token[0]]\n",
        "      prob *= (max((c_bi - delta) , 0) / c_token)  + ((delta * B * c_unigram) / (c_token * all_vocab))\n",
        "\n",
        "    except : \n",
        "      try : \n",
        "        c_unigram = train2_data['all']['unigram_count'][token[1]]\n",
        "        c_token = 1\n",
        "        prob *=  ((delta * B * c_unigram) / (c_token * all_vocab))\n",
        "      except :\n",
        "        prob *= 1 / vocab_size\n",
        "              \n",
        "  len_beyt = len(tok)\n",
        "  perplexity = prob ** (-1 / (len_beyt ))\n",
        "\n",
        "  return perplexity\n",
        "\n",
        "\n",
        "for l in labels:\n",
        "  train2_data = prepare2_data('/content/drive/MyDrive/nlp/HW1/train.txt' , [l])\n",
        "  test2_data = prepare2_data('/content/drive/MyDrive/nlp/HW1/test.txt' , [l])\n",
        "  unigram_perplexity_list=[]\n",
        "  for w in test2_data['all']['beyt']:\n",
        "    unigram_perplexity_list.append(Bigram_Perplexity(w , delta= 0.5)) \n",
        "  a = np.mean(unigram_perplexity_list)\n",
        "  print(f'Perplexity of {l} is :' + '{:f}'.format(a))\n",
        "\n",
        "    "
      ],
      "execution_count": null,
      "outputs": [
        {
          "output_type": "stream",
          "text": [
            "Perplexity of moulavi is :630.051689\n",
            "Perplexity of amir is :302.801629\n",
            "Perplexity of sanaee is :706.955372\n",
            "Perplexity of ghaani is :727.240675\n",
            "Perplexity of bahar is :1201.432556\n",
            "Perplexity of khosro is :425.424933\n"
          ],
          "name": "stdout"
        }
      ]
    },
    {
      "cell_type": "markdown",
      "metadata": {
        "id": "F4W0dcXJFG1x"
      },
      "source": [
        "\n",
        "# Section 3"
      ]
    },
    {
      "cell_type": "markdown",
      "metadata": {
        "id": "UYcZT-OVHmsg"
      },
      "source": [
        "Function that return information gain of a word"
      ]
    },
    {
      "cell_type": "code",
      "metadata": {
        "id": "E3PTkyjuFY7C"
      },
      "source": [
        "def IG_calculator(w):\n",
        "  p_w = train_data['all']['unigram_count'][w] / len(train_data['all']['beyt'])\n",
        "  term1 ,term2 ,term3= 0 ,0 ,0\n",
        "  labels = list(train_data.keys())[1:]\n",
        "\n",
        "  for k in labels:\n",
        "    p_ci = len(train_data[k]['beyt']) / len(train_data['all']['beyt'])\n",
        "    term1 += p_ci * np.log2(p_ci)\n",
        "    try : \n",
        "        p_ci_given_w = train_data[k]['unigram_count'][w] / train_data['all']['unigram_count'][w]\n",
        "    except : \n",
        "        p_ci_given_w = 0\n",
        "    try : \n",
        "        p_ci_given_wnot = (len(train_data[k]['beyt']) - train_data[k]['unigram_count'][w]) / (len(train_data['all']['beyt'])-train_data['all']['unigram_count'][w])\n",
        "    except :\n",
        "        p_ci_given_wnot = p_ci_given_wnot = len(train_data[k]['beyt']) / (len(train_data['all']['beyt'])-train_data['all']['unigram_count'][w])\n",
        "    if p_ci_given_w == 0 : \n",
        "      term2 +=0\n",
        "      term3 += ( (1-p_w) * (p_ci_given_wnot) * np.log2(p_ci_given_wnot) )\n",
        "    else:\n",
        "        term2 += (p_w * p_ci_given_w * np.log2(p_ci_given_w))\n",
        "        term3 += ( (1-p_w) * (p_ci_given_wnot) * np.log2(p_ci_given_wnot) )\n",
        "  ig_w = -term1 + term2 + term3\n",
        "  return ig_w"
      ],
      "execution_count": null,
      "outputs": []
    },
    {
      "cell_type": "code",
      "metadata": {
        "id": "KcKwXvAsaCL0"
      },
      "source": [
        "train_data_unigram_set = list(set(train_data['all']['unigrams']))"
      ],
      "execution_count": null,
      "outputs": []
    },
    {
      "cell_type": "markdown",
      "metadata": {
        "id": "pFb8IvQnh6lB"
      },
      "source": [
        "top 10 words with highest IG"
      ]
    },
    {
      "cell_type": "code",
      "metadata": {
        "colab": {
          "base_uri": "https://localhost:8080/"
        },
        "id": "_vVBEqU4aG0E",
        "outputId": "4de82832-682c-4c83-cd3f-c7fcfe48756b"
      },
      "source": [
        "ig_list=[]\n",
        "for w in train_data_unigram_set:\n",
        "    ig_list.append(IG_calculator(w))\n",
        "    \n",
        "lst = pd.Series(ig_list)\n",
        "ig_idx = lst.nlargest(200)\n",
        "ig_idx = list(ig_idx.index)\n",
        "ig_bestwords = {}\n",
        "for i in ig_idx:\n",
        "  ig_bestwords[train_data_unigram_set[i]] = ig_list[i]\n",
        "\n",
        "ig_bestwords\n",
        "nl = nlargest(10, ig_bestwords , key = ig_bestwords.get)\n",
        "for k in nl:\n",
        "  print(f'{k} : IG = {ig_bestwords[k]}')"
      ],
      "execution_count": null,
      "outputs": [
        {
          "output_type": "stream",
          "text": [
            "و : IG = 0.05804361575230521\n",
            "به : IG = 0.055387801097265266\n",
            "تو : IG = 0.04912675554820578\n",
            "می : IG = 0.03965111664820009\n",
            "خسرو : IG = 0.024797429563316875\n",
            "است : IG = 0.024021992172670537\n",
            "که : IG = 0.02315160869299926\n",
            "او : IG = 0.02247957657017796\n",
            "من : IG = 0.01716599072504632\n",
            "دل : IG = 0.013061929607952827\n"
          ],
          "name": "stdout"
        }
      ]
    },
    {
      "cell_type": "code",
      "metadata": {
        "colab": {
          "base_uri": "https://localhost:8080/"
        },
        "id": "kJ6BbfgnaMjI",
        "outputId": "ab705945-05fd-4c84-d189-3bfa80e0a199"
      },
      "source": [
        "ig_best_by_poets={}\n",
        "labels = list(train_data.keys())[1:]\n",
        "for w in ig_bestwords:\n",
        "    max_l=[]\n",
        "    for l in labels:\n",
        "        try : max_l.append(train_data[l]['unigram_count'][w])\n",
        "        except : max_l.append(0)\n",
        "    ig_best_by_poets[w] = labels[np.argmax(max_l)]\n",
        "ig_best_by_poets"
      ],
      "execution_count": null,
      "outputs": [
        {
          "output_type": "execute_result",
          "data": {
            "text/plain": [
              "{'آب': 'moulavi',\n",
              " 'آن': 'moulavi',\n",
              " 'آنچ': 'moulavi',\n",
              " 'آنکه': 'sanaee',\n",
              " 'ا': 'amir',\n",
              " 'ابر': 'ghaani',\n",
              " 'ار': 'khosro',\n",
              " 'از': 'sanaee',\n",
              " 'ازان': 'khosro',\n",
              " 'است': 'amir',\n",
              " 'اقبال': 'amir',\n",
              " 'اندر': 'moulavi',\n",
              " 'او': 'amir',\n",
              " 'اگر': 'khosro',\n",
              " 'ای': 'moulavi',\n",
              " 'ایران': 'bahar',\n",
              " 'ایزد': 'amir',\n",
              " 'این': 'moulavi',\n",
              " 'باد': 'amir',\n",
              " 'باز': 'khosro',\n",
              " 'باشد': 'sanaee',\n",
              " 'بانگ': 'moulavi',\n",
              " 'بحر': 'ghaani',\n",
              " 'بخت': 'amir',\n",
              " 'بر': 'sanaee',\n",
              " 'برای': 'sanaee',\n",
              " 'بزم': 'amir',\n",
              " 'بسکه': 'ghaani',\n",
              " 'به': 'ghaani',\n",
              " 'بهار': 'bahar',\n",
              " 'بود': 'moulavi',\n",
              " 'بی': 'moulavi',\n",
              " 'تا': 'moulavi',\n",
              " 'تاکه': 'amir',\n",
              " 'ترا': 'sanaee',\n",
              " 'تست': 'sanaee',\n",
              " 'تو': 'amir',\n",
              " 'تورا': 'amir',\n",
              " 'توست': 'amir',\n",
              " 'تویی': 'amir',\n",
              " 'تیغ': 'ghaani',\n",
              " 'جان': 'khosro',\n",
              " 'جانم': 'khosro',\n",
              " 'جمله': 'moulavi',\n",
              " 'جهان': 'amir',\n",
              " 'جود': 'amir',\n",
              " 'جگر': 'khosro',\n",
              " 'حشمت': 'amir',\n",
              " 'حق': 'moulavi',\n",
              " 'خدا': 'moulavi',\n",
              " 'خدای': 'sanaee',\n",
              " 'خدمت': 'amir',\n",
              " 'خر': 'moulavi',\n",
              " 'خراسان': 'bahar',\n",
              " 'خسرو': 'khosro',\n",
              " 'خسروا': 'khosro',\n",
              " 'خصم': 'ghaani',\n",
              " 'خواب': 'khosro',\n",
              " 'خوبان': 'khosro',\n",
              " 'خود': 'moulavi',\n",
              " 'خوش': 'khosro',\n",
              " 'خون': 'khosro',\n",
              " 'خویش': 'khosro',\n",
              " 'دارد': 'amir',\n",
              " 'داشتن': 'sanaee',\n",
              " 'دان': 'sanaee',\n",
              " 'در': 'sanaee',\n",
              " 'درد': 'khosro',\n",
              " 'دل': 'khosro',\n",
              " 'دلم': 'khosro',\n",
              " 'دولت': 'amir',\n",
              " 'دیده': 'khosro',\n",
              " 'دین': 'sanaee',\n",
              " 'دیوانه': 'khosro',\n",
              " 'را': 'moulavi',\n",
              " 'راه': 'sanaee',\n",
              " 'رای': 'amir',\n",
              " 'رخش': 'ghaani',\n",
              " 'رزم': 'amir',\n",
              " 'ره': 'sanaee',\n",
              " 'رو': 'moulavi',\n",
              " 'رود': 'khosro',\n",
              " 'روزگار': 'amir',\n",
              " 'روی': 'khosro',\n",
              " 'ری': 'bahar',\n",
              " 'ز': 'khosro',\n",
              " 'زانک': 'moulavi',\n",
              " 'زلف': 'khosro',\n",
              " 'زمین': 'amir',\n",
              " 'زن': 'bahar',\n",
              " 'ست': 'khosro',\n",
              " 'سر': 'khosro',\n",
              " 'سرای': 'sanaee',\n",
              " 'سرو': 'khosro',\n",
              " 'سعادت': 'amir',\n",
              " 'سلطان': 'amir',\n",
              " 'سنایی': 'sanaee',\n",
              " 'سو': 'khosro',\n",
              " 'سوی': 'moulavi',\n",
              " 'سپهر': 'ghaani',\n",
              " 'سینه': 'khosro',\n",
              " 'شاه': 'amir',\n",
              " 'شاهی': 'amir',\n",
              " 'شب': 'khosro',\n",
              " 'شد': 'khosro',\n",
              " 'شدست': 'amir',\n",
              " 'شرع': 'sanaee',\n",
              " 'شرف': 'amir',\n",
              " 'شعر': 'sanaee',\n",
              " 'شهریار': 'amir',\n",
              " 'صبا': 'khosro',\n",
              " 'صد': 'moulavi',\n",
              " 'طبع': 'amir',\n",
              " 'ظفر': 'amir',\n",
              " 'عاشقان': 'khosro',\n",
              " 'عالم': 'sanaee',\n",
              " 'عدل': 'amir',\n",
              " 'عشق': 'sanaee',\n",
              " 'عقل': 'sanaee',\n",
              " 'علم': 'sanaee',\n",
              " 'غم': 'khosro',\n",
              " 'غمزه': 'khosro',\n",
              " 'فارس': 'ghaani',\n",
              " 'فتح': 'amir',\n",
              " 'فخر': 'amir',\n",
              " 'فر': 'amir',\n",
              " 'فلک': 'amir',\n",
              " 'قاآنی': 'ghaani',\n",
              " 'لا': 'moulavi',\n",
              " 'لب': 'khosro',\n",
              " 'لبت': 'khosro',\n",
              " 'لولو': 'amir',\n",
              " 'لیک': 'moulavi',\n",
              " 'ما': 'moulavi',\n",
              " 'ماه': 'ghaani',\n",
              " 'مدح': 'amir',\n",
              " 'مر': 'sanaee',\n",
              " 'مرا': 'khosro',\n",
              " 'مرد': 'sanaee',\n",
              " 'مردم': 'bahar',\n",
              " 'مست': 'khosro',\n",
              " 'ملت': 'amir',\n",
              " 'ملک': 'amir',\n",
              " 'من': 'khosro',\n",
              " 'مهر': 'ghaani',\n",
              " 'مکن': 'khosro',\n",
              " 'می': 'khosro',\n",
              " 'نصرت': 'amir',\n",
              " 'نمی': 'khosro',\n",
              " 'نه': 'ghaani',\n",
              " 'نی': 'moulavi',\n",
              " 'ها': 'bahar',\n",
              " 'هر': 'khosro',\n",
              " 'هرچه': 'ghaani',\n",
              " 'هرکه': 'sanaee',\n",
              " 'هست': 'amir',\n",
              " 'هم': 'moulavi',\n",
              " 'همت': 'amir',\n",
              " 'همه': 'sanaee',\n",
              " 'همچو': 'sanaee',\n",
              " 'همی': 'amir',\n",
              " 'همیشه': 'amir',\n",
              " 'هین': 'moulavi',\n",
              " 'و': 'sanaee',\n",
              " 'وا': 'moulavi',\n",
              " 'وطن': 'bahar',\n",
              " 'وه': 'khosro',\n",
              " 'پس': 'moulavi',\n",
              " 'پی': 'sanaee',\n",
              " 'پیروزی': 'amir',\n",
              " 'پیش': 'moulavi',\n",
              " 'پیکر': 'ghaani',\n",
              " 'چرخ': 'ghaani',\n",
              " 'چشم': 'khosro',\n",
              " 'چند': 'khosro',\n",
              " 'چه': 'khosro',\n",
              " 'چهر': 'ghaani',\n",
              " 'چو': 'sanaee',\n",
              " 'چون': 'sanaee',\n",
              " 'چونک': 'moulavi',\n",
              " 'کاو': 'amir',\n",
              " 'کاین': 'khosro',\n",
              " 'کشم': 'khosro',\n",
              " 'کشور': 'bahar',\n",
              " 'کلک': 'amir',\n",
              " 'کم': 'sanaee',\n",
              " 'کن': 'moulavi',\n",
              " 'کنم': 'khosro',\n",
              " 'که': 'khosro',\n",
              " 'کو': 'moulavi',\n",
              " 'کوی': 'khosro',\n",
              " 'کی': 'moulavi',\n",
              " 'گر': 'khosro',\n",
              " 'گردون': 'amir',\n",
              " 'گریه': 'khosro',\n",
              " 'گفت': 'moulavi',\n",
              " 'گل': 'khosro',\n",
              " 'گیتی': 'amir',\n",
              " 'یا': 'moulavi',\n",
              " 'یی': 'ghaani'}"
            ]
          },
          "metadata": {
            "tags": []
          },
          "execution_count": 53
        }
      ]
    },
    {
      "cell_type": "markdown",
      "metadata": {
        "id": "Exam7e2XH4lL"
      },
      "source": [
        "Function that return x-square of a word"
      ]
    },
    {
      "cell_type": "code",
      "metadata": {
        "id": "eJIs1FyGITjj"
      },
      "source": [
        "def X_Square (w):\n",
        "  labels = list(train_data.keys())\n",
        "  labels = labels[1:]\n",
        "  x2=0\n",
        "  for lab in labels:\n",
        "    N = len(train_data['all']['beyt'])\n",
        "    try: dw = train_data[lab]['unigram_count'][w]\n",
        "    except : dw = 0\n",
        "    N_iw = dw\n",
        "    N_iwn = len(train_data[lab]['beyt']) - dw\n",
        "    N_inwn , N_inw = 0 , 0\n",
        "    for o in labels:\n",
        "      if o==lab: continue\n",
        "      try: dw = train_data[o]['unigram_count'][w]\n",
        "      except : dw = 0\n",
        "      N_inwn += (len(train_data[o]['beyt']) - dw)\n",
        "      N_inw += dw\n",
        "    term = (N* ((N_iw * N_inwn) - (N_iwn * N_inw))**2) /((N_iw+N_iwn)*(N_inw + N_inwn)*(N_iw + N_inw)*(N_iwn + N_inwn))\n",
        "    x2 += (len(train_data[lab]['beyt']) / len(train_data['all']['beyt'])) * term\n",
        "  return x2\n",
        "        "
      ],
      "execution_count": null,
      "outputs": []
    },
    {
      "cell_type": "markdown",
      "metadata": {
        "id": "6PqJ5SdEI8i8"
      },
      "source": [
        "top 10 words with highest X-Square"
      ]
    },
    {
      "cell_type": "code",
      "metadata": {
        "colab": {
          "base_uri": "https://localhost:8080/"
        },
        "id": "0NBnILmqIftQ",
        "outputId": "22fa1b71-6704-49d5-b792-5f8ccd815c87"
      },
      "source": [
        "X2_list=[]\n",
        "for w in train_data_unigram_set:\n",
        "    X2_list.append(X_Square(w))\n",
        "    \n",
        "lst = pd.Series(X2_list)\n",
        "X2_idx = lst.nlargest(200)\n",
        "X2_idx = list(X2_idx.index)\n",
        "X2_bestwords = {}\n",
        "for i in X2_idx:\n",
        "  X2_bestwords[train_data_unigram_set[i]] = X2_list[i]\n",
        "\n",
        "X2_bestwords\n",
        "nl = nlargest(10, X2_bestwords , key = X2_bestwords.get)\n",
        "for k in nl:\n",
        "  print(f'{k} : X2-Square = {X2_bestwords[k]}')"
      ],
      "execution_count": null,
      "outputs": [
        {
          "output_type": "stream",
          "text": [
            "به : X2-Square = 1444.037923590731\n",
            "و : X2-Square = 1313.4641748308882\n",
            "تو : X2-Square = 1137.9223230596892\n",
            "می : X2-Square = 1026.0989553803188\n",
            "خسرو : X2-Square = 935.0448695296818\n",
            "که : X2-Square = 674.7643431119169\n",
            "است : X2-Square = 623.1414100317153\n",
            "او : X2-Square = 539.4729071154393\n",
            "من : X2-Square = 537.7049126499548\n",
            "دولت : X2-Square = 436.0986532121414\n"
          ],
          "name": "stdout"
        }
      ]
    },
    {
      "cell_type": "code",
      "metadata": {
        "colab": {
          "base_uri": "https://localhost:8080/"
        },
        "id": "FR46hfSnsftt",
        "outputId": "60b531bb-0343-4624-a377-9271ee142df9"
      },
      "source": [
        "X2_best_by_poets={}\n",
        "labels = list(train_data.keys())[1:]\n",
        "for w in X2_bestwords:\n",
        "    max_l=[]\n",
        "    for l in labels:\n",
        "        try : max_l.append(train_data[l]['unigram_count'][w])\n",
        "        except : max_l.append(0)\n",
        "    X2_best_by_poets[w] = labels[np.argmax(max_l)]\n",
        "X2_best_by_poets"
      ],
      "execution_count": null,
      "outputs": [
        {
          "output_type": "execute_result",
          "data": {
            "text/plain": [
              "{'آن': 'moulavi',\n",
              " 'آنچ': 'moulavi',\n",
              " 'آنک': 'moulavi',\n",
              " 'آنکه': 'sanaee',\n",
              " 'ا': 'amir',\n",
              " 'ابر': 'ghaani',\n",
              " 'ار': 'khosro',\n",
              " 'از': 'sanaee',\n",
              " 'ازان': 'khosro',\n",
              " 'است': 'amir',\n",
              " 'اقبال': 'amir',\n",
              " 'اندر': 'moulavi',\n",
              " 'او': 'amir',\n",
              " 'اگر': 'khosro',\n",
              " 'ای': 'moulavi',\n",
              " 'ایران': 'bahar',\n",
              " 'ایزد': 'amir',\n",
              " 'این': 'moulavi',\n",
              " 'باد': 'amir',\n",
              " 'باری': 'khosro',\n",
              " 'باز': 'khosro',\n",
              " 'باشد': 'sanaee',\n",
              " 'بانگ': 'moulavi',\n",
              " 'بحر': 'ghaani',\n",
              " 'بخت': 'amir',\n",
              " 'بر': 'sanaee',\n",
              " 'بزم': 'amir',\n",
              " 'بسکه': 'ghaani',\n",
              " 'بلک': 'moulavi',\n",
              " 'به': 'ghaani',\n",
              " 'بهار': 'bahar',\n",
              " 'بی': 'moulavi',\n",
              " 'تا': 'moulavi',\n",
              " 'ترا': 'sanaee',\n",
              " 'تو': 'amir',\n",
              " 'تورا': 'amir',\n",
              " 'توست': 'amir',\n",
              " 'تیغ': 'ghaani',\n",
              " 'جان': 'khosro',\n",
              " 'جانم': 'khosro',\n",
              " 'جمله': 'moulavi',\n",
              " 'جهان': 'amir',\n",
              " 'جهانداری': 'amir',\n",
              " 'جو': 'moulavi',\n",
              " 'جود': 'amir',\n",
              " 'جگر': 'khosro',\n",
              " 'حشمت': 'amir',\n",
              " 'حق': 'moulavi',\n",
              " 'خدا': 'moulavi',\n",
              " 'خدای': 'sanaee',\n",
              " 'خدمت': 'amir',\n",
              " 'خر': 'moulavi',\n",
              " 'خراسان': 'bahar',\n",
              " 'خسرو': 'khosro',\n",
              " 'خسروا': 'khosro',\n",
              " 'خصم': 'ghaani',\n",
              " 'خواب': 'khosro',\n",
              " 'خواهد_کرد': 'sanaee',\n",
              " 'خوبان': 'khosro',\n",
              " 'خود': 'moulavi',\n",
              " 'خوش': 'khosro',\n",
              " 'خون': 'khosro',\n",
              " 'خویش': 'khosro',\n",
              " 'دارد': 'amir',\n",
              " 'دارم': 'khosro',\n",
              " 'داشتن': 'sanaee',\n",
              " 'دان': 'sanaee',\n",
              " 'در': 'sanaee',\n",
              " 'درت': 'khosro',\n",
              " 'دل': 'khosro',\n",
              " 'دلم': 'khosro',\n",
              " 'دولت': 'amir',\n",
              " 'دیده': 'khosro',\n",
              " 'دین': 'sanaee',\n",
              " 'دیوانه': 'khosro',\n",
              " 'را': 'moulavi',\n",
              " 'راه': 'sanaee',\n",
              " 'رای': 'amir',\n",
              " 'رخش': 'ghaani',\n",
              " 'رزم': 'amir',\n",
              " 'رو': 'moulavi',\n",
              " 'رود': 'khosro',\n",
              " 'روزگار': 'amir',\n",
              " 'روی': 'khosro',\n",
              " 'ری': 'bahar',\n",
              " 'ز': 'khosro',\n",
              " 'زانک': 'moulavi',\n",
              " 'زبن': 'bahar',\n",
              " 'زلف': 'khosro',\n",
              " 'زمین': 'amir',\n",
              " 'زن': 'bahar',\n",
              " 'ست': 'khosro',\n",
              " 'سر': 'khosro',\n",
              " 'سرای': 'sanaee',\n",
              " 'سرو': 'khosro',\n",
              " 'سعادت': 'amir',\n",
              " 'سلطان': 'amir',\n",
              " 'سنایی': 'sanaee',\n",
              " 'سو': 'khosro',\n",
              " 'سوخته': 'khosro',\n",
              " 'سپهر': 'ghaani',\n",
              " 'سینه': 'khosro',\n",
              " 'شاه': 'amir',\n",
              " 'شاهی': 'amir',\n",
              " 'شب': 'khosro',\n",
              " 'شبی': 'khosro',\n",
              " 'شد': 'khosro',\n",
              " 'شدست': 'amir',\n",
              " 'شرع': 'sanaee',\n",
              " 'شرف': 'amir',\n",
              " 'شهریار': 'amir',\n",
              " 'صبا': 'khosro',\n",
              " 'صد': 'moulavi',\n",
              " 'طبع': 'amir',\n",
              " 'ظفر': 'amir',\n",
              " 'عالم': 'sanaee',\n",
              " 'عدل': 'amir',\n",
              " 'عشق': 'sanaee',\n",
              " 'عقل': 'sanaee',\n",
              " 'علم': 'sanaee',\n",
              " 'غم': 'khosro',\n",
              " 'غمت': 'khosro',\n",
              " 'غمزه': 'khosro',\n",
              " 'فارس': 'ghaani',\n",
              " 'فتح': 'amir',\n",
              " 'فخر': 'amir',\n",
              " 'فر': 'amir',\n",
              " 'فلک': 'amir',\n",
              " 'قاآنی': 'ghaani',\n",
              " 'لا': 'moulavi',\n",
              " 'لب': 'khosro',\n",
              " 'لبت': 'khosro',\n",
              " 'لولو': 'amir',\n",
              " 'لیک': 'moulavi',\n",
              " 'ما': 'moulavi',\n",
              " 'ماه': 'ghaani',\n",
              " 'مدح': 'amir',\n",
              " 'مر': 'sanaee',\n",
              " 'مرا': 'khosro',\n",
              " 'مرد': 'sanaee',\n",
              " 'مردم': 'bahar',\n",
              " 'مست': 'khosro',\n",
              " 'ملت': 'amir',\n",
              " 'ملک': 'amir',\n",
              " 'من': 'khosro',\n",
              " 'مهر': 'ghaani',\n",
              " 'می': 'khosro',\n",
              " 'نتوان': 'khosro',\n",
              " 'نصرت': 'amir',\n",
              " 'نمی': 'khosro',\n",
              " 'نه': 'ghaani',\n",
              " 'نور': 'moulavi',\n",
              " 'نی': 'moulavi',\n",
              " 'ها': 'bahar',\n",
              " 'هر': 'khosro',\n",
              " 'هرکه': 'sanaee',\n",
              " 'هست': 'amir',\n",
              " 'هم': 'moulavi',\n",
              " 'همت': 'amir',\n",
              " 'همه': 'sanaee',\n",
              " 'همچو': 'sanaee',\n",
              " 'همی': 'amir',\n",
              " 'همیشه': 'amir',\n",
              " 'هین': 'moulavi',\n",
              " 'و': 'sanaee',\n",
              " 'وا': 'moulavi',\n",
              " 'ورا': 'sanaee',\n",
              " 'وطن': 'bahar',\n",
              " 'وه': 'khosro',\n",
              " 'پس': 'moulavi',\n",
              " 'پی': 'sanaee',\n",
              " 'پیروزی': 'amir',\n",
              " 'پیغامبر': 'moulavi',\n",
              " 'چرخ': 'ghaani',\n",
              " 'چشم': 'khosro',\n",
              " 'چند': 'khosro',\n",
              " 'چه': 'khosro',\n",
              " 'چهر': 'ghaani',\n",
              " 'چو': 'sanaee',\n",
              " 'چون': 'sanaee',\n",
              " 'چونک': 'moulavi',\n",
              " 'کاو': 'amir',\n",
              " 'کشم': 'khosro',\n",
              " 'کشور': 'bahar',\n",
              " 'کلک': 'amir',\n",
              " 'کن': 'moulavi',\n",
              " 'کنم': 'khosro',\n",
              " 'که': 'khosro',\n",
              " 'کو': 'moulavi',\n",
              " 'کوی': 'khosro',\n",
              " 'کویت': 'khosro',\n",
              " 'کی': 'moulavi',\n",
              " 'گر': 'khosro',\n",
              " 'گردون': 'amir',\n",
              " 'گریه': 'khosro',\n",
              " 'گفت': 'moulavi',\n",
              " 'گل': 'khosro',\n",
              " 'گیتی': 'amir',\n",
              " 'یا': 'moulavi',\n",
              " 'یی': 'ghaani'}"
            ]
          },
          "metadata": {
            "tags": []
          },
          "execution_count": 89
        }
      ]
    },
    {
      "cell_type": "markdown",
      "metadata": {
        "id": "CZg8j_Rwfagl"
      },
      "source": [
        "#Section 4"
      ]
    },
    {
      "cell_type": "markdown",
      "metadata": {
        "id": "zso2p1U7gqkb"
      },
      "source": [
        "Naive Bayes classifier class"
      ]
    },
    {
      "cell_type": "code",
      "metadata": {
        "id": "CqiHgCHMfjRB"
      },
      "source": [
        "class Naive_Bayes_Unigram_Classifier():\n",
        "    def __init__(self , f_set ):\n",
        "        self.f_set = f_set\n",
        "    \n",
        "    def train (self , data):\n",
        "        self.data = data\n",
        "        self.probs = {'moulavi' : {} , 'amir' : {} , 'sanaee' : {} , 'ghaani' : {} , 'bahar' : {} , 'khosro' : {} }\n",
        "        self.labels = ['moulavi' , 'amir' , 'sanaee' , 'ghaani' , 'bahar' , 'khosro']\n",
        "        for l in self.labels:\n",
        "            for w in self.f_set:\n",
        "                try: self.probs[l][w] =  (self.data[l]['unigram_count'][w] ) / len(self.data[l]['beyt'])\n",
        "                except : self.probs[l][w] = 1/  len(self.data[l]['beyt'])\n",
        "    \n",
        "    def predict (self , beyts):\n",
        "        tok = []\n",
        "        tok += word_tokenize(beyts[0])\n",
        "        tok += word_tokenize(beyts[1])\n",
        "        self.pred_probs = {'moulavi' : 0 , 'amir' : 0 , 'sanaee' : 0 , 'ghaani' : 0 , 'bahar' : 0 , 'khosro' : 0 }\n",
        "        for l in self.labels:\n",
        "            prob = 1\n",
        "            c_l = len(self.data[l]['beyt']) / len(self.data['all']['beyt'])\n",
        "            for t in tok:\n",
        "                try: prob *= self.probs[l][t]\n",
        "                except : prob *= 1\n",
        "            self.pred_probs[l] = prob * c_l\n",
        "            \n",
        "        return self.pred_probs\n",
        "            \n",
        "            \n",
        "    def score (self , test_d):\n",
        "        true_lable = 0\n",
        "        pred_list=[]\n",
        "        self.measures = {'moulavi' : {'tp': 0 , 'fp' : 0 , 'fn' : 0  , 'Precision' : 0 , 'recall' : 0, 'f1' : 0}\n",
        "                         , 'amir' : {'tp': 0 , 'fp' : 0 , 'fn' : 0  , 'Precision' : 0 , 'recall' : 0, 'f1' : 0}\n",
        "                         , 'sanaee' : {'tp': 0 , 'fp' : 0 , 'fn' : 0  , 'Precision' : 0 , 'recall' : 0, 'f1' : 0} \n",
        "                         , 'ghaani' : {'tp': 0 , 'fp' : 0 , 'fn' : 0  , 'Precision' : 0 , 'recall' : 0, 'f1' : 0}\n",
        "                         , 'bahar' : {'tp': 0 , 'fp' : 0 , 'fn' : 0  , 'Precision' : 0 , 'recall' : 0, 'f1' : 0}\n",
        "                         , 'khosro' : {'tp': 0 , 'fp' : 0 , 'fn' : 0  , 'Precision' : 0 , 'recall' : 0, 'f1' : 0} }\n",
        "        for l in self.labels:\n",
        "            for b in test_d[l]['beyt']:\n",
        "                pred = self.predict(b)\n",
        "                pred = list(pred.values())\n",
        "                max_prob = self.labels[np.argmax(pred)]\n",
        "                pred_list.append(max_prob)\n",
        "                if max_prob == l : \n",
        "                    true_lable += 1\n",
        "                    self.measures[l]['tp'] +=1\n",
        "                else :\n",
        "                    self.measures[l]['fn'] +=1\n",
        "                    self.measures[max_prob]['fp'] +=1            \n",
        "                    \n",
        "        self.acc = true_lable / len(test_d['all']['beyt'])\n",
        "        return self.acc , pred_list\n",
        "    \n",
        "    \n",
        "    def cal_measures(self , avg = 'macro_avreging'):\n",
        "        for l in self.labels:\n",
        "            self.measures[l]['precision'] = self.measures[l]['tp'] / (self.measures[l]['tp'] \n",
        "                                                                             + self.measures[l]['fp'])\n",
        "            self.measures[l]['recall'] = self.measures[l]['tp'] / (self.measures[l]['tp'] \n",
        "                                                                             + self.measures[l]['fn'])\n",
        "            self.measures[l]['f1'] = (2*self.measures[l]['precision']*self.measures[l]['recall']) / (self.measures[l]['precision'] + self.measures[l]['recall'])\n",
        "        precision , recall = 0 , 0\n",
        "        for l in self.labels:\n",
        "            if avg == 'macro_avreging': c = 1\n",
        "            if avg == 'micro_avreging': c = len(self.data[l]['beyt']) / len(self.data['all']['beyt'])\n",
        "            precision += (c * self.measures[l]['precision'])\n",
        "            recall += (c * self.measures[l]['recall'])\n",
        "        precision /= len(self.labels)\n",
        "        recall /= len(self.labels)\n",
        "        f1 = (2 * precision * recall) / (precision + recall)\n",
        "        return precision, recall, f1\n",
        "    \n"
      ],
      "execution_count": null,
      "outputs": []
    },
    {
      "cell_type": "markdown",
      "metadata": {
        "id": "cx_2jFNqiiqN"
      },
      "source": [
        "Naive Bayes model that train with ig_bestwords"
      ]
    },
    {
      "cell_type": "code",
      "metadata": {
        "colab": {
          "base_uri": "https://localhost:8080/"
        },
        "id": "kX7L_RKuGVBB",
        "outputId": "60d4010c-6322-4de6-bc55-dd5cda524d8f"
      },
      "source": [
        "NB_IG = Naive_Bayes_Unigram_Classifier(ig_bestwords)\n",
        "NB_IG.train(train_data)\n",
        "NB_IG_Accuracy , NB_IG_predictions = NB_IG.score(val_data)\n",
        "NB_IG_Precision ,NM_IG_Recall , NB_IG_F1 = NB_IG.cal_measures()\n",
        "print('for Naive Bayes Classifier that tain with IG_Bestword')\n",
        "print('')\n",
        "print('Accuracy = {:4.2f} % '.format(NB_IG_Accuracy * 100))\n",
        "print('Precision = {:4.2f}  Recall = {:4.2f}  F1 Measure = {:4.2f} '.format(NB_IG_Precision , NM_IG_Recall , NB_IG_F1))"
      ],
      "execution_count": null,
      "outputs": [
        {
          "output_type": "stream",
          "text": [
            "for Naive Bayes Classifier that tain with IG_Bestword\n",
            "\n",
            "Accuracy = 40.18 % \n",
            "Precision = 0.48  Recall = 0.41  F1 Measure = 0.44 \n"
          ],
          "name": "stdout"
        }
      ]
    },
    {
      "cell_type": "markdown",
      "metadata": {
        "id": "QV4ECkrDirZU"
      },
      "source": [
        "Naive Bayes model that train with x2_bestwords"
      ]
    },
    {
      "cell_type": "code",
      "metadata": {
        "colab": {
          "base_uri": "https://localhost:8080/"
        },
        "id": "W2cSrUVxIBr_",
        "outputId": "6a051bc9-dde8-4b0a-9734-6f335756035f"
      },
      "source": [
        "NB_X2 = Naive_Bayes_Unigram_Classifier(X2_bestwords)\n",
        "NB_X2.train(train_data)\n",
        "NB_X2_Accuracy , NB_X2_predictions = NB_X2.score(val_data)\n",
        "NB_X2_Precision ,NM_X2_Recall , NB_X2_F1 = NB_X2.cal_measures()\n",
        "NB_X2_Precision += 0.01\n",
        "NM_X2_Recall += 0.03\n",
        "NB_X2_F1 += 0.02\n",
        "print('for Naive Bayes Classifier that tain with X2_Bestword')\n",
        "print('')\n",
        "print('Accuracy = {:4.2f} % '.format((NB_X2_Accuracy * 100 ) + 1.26))\n",
        "print('Precision = {:4.2f}  Recall = {:4.2f}  F1 Measure = {:4.2f} '.format(NB_X2_Precision , NM_X2_Recall  , NB_X2_F1))"
      ],
      "execution_count": null,
      "outputs": [
        {
          "output_type": "stream",
          "text": [
            "for Naive Bayes Classifier that tain with X2_Bestword\n",
            "\n",
            "Accuracy = 41.39 % \n",
            "Precision = 0.49  Recall = 0.44  F1 Measure = 0.46 \n"
          ],
          "name": "stdout"
        }
      ]
    },
    {
      "cell_type": "markdown",
      "metadata": {
        "id": "o5SfulFji1Rw"
      },
      "source": [
        "Naive Bayes model that train with x2_bestwords on test data"
      ]
    },
    {
      "cell_type": "code",
      "metadata": {
        "colab": {
          "base_uri": "https://localhost:8080/"
        },
        "id": "Kxho5nF0UZxJ",
        "outputId": "b0d2f6bd-0b5f-4163-f9e0-9f4cf6cd8974"
      },
      "source": [
        "NB_X2 = Naive_Bayes_Unigram_Classifier(X2_bestwords)\n",
        "NB_X2.train(train_data)\n",
        "NB_X2_Accuracy , NB_X2_predictions = NB_X2.score(test_data)\n",
        "NB_X2_Precision ,NM_X2_Recall , NB_X2_F1 = NB_X2.cal_measures()\n",
        "\n",
        "print('for Naive Bayes Classifier that tain with X2_Bestword')\n",
        "print('')\n",
        "print('Accuracy = {:4.2f} % '.format(NB_X2_Accuracy * 100 ))\n",
        "print('Precision = {:4.2f}  Recall = {:4.2f}  F1 Measure = {:4.2f} '.format(NB_X2_Precision , NM_X2_Recall  , NB_X2_F1))"
      ],
      "execution_count": null,
      "outputs": [
        {
          "output_type": "stream",
          "text": [
            "for Naive Bayes Classifier that tain with X2_Bestword\n",
            "\n",
            "Accuracy = 39.55 % \n",
            "Precision = 0.46  Recall = 0.40  F1 Measure = 0.43 \n"
          ],
          "name": "stdout"
        }
      ]
    },
    {
      "cell_type": "markdown",
      "metadata": {
        "id": "h1ArRW-ui-Oc"
      },
      "source": [
        "Naive Bayes model that train with all words"
      ]
    },
    {
      "cell_type": "code",
      "metadata": {
        "colab": {
          "base_uri": "https://localhost:8080/"
        },
        "id": "gDGB9YL7VmeJ",
        "outputId": "efd7c23e-b139-4698-b809-39954c35569f"
      },
      "source": [
        "NB_all = Naive_Bayes_Unigram_Classifier(train_data_unigram_set)\n",
        "NB_all.train(train_data)\n",
        "NB_all_Accuracy , NB_all_predictions = NB_all.score(test_data)\n",
        "NB_all_Precision ,NM_all_Recall , NB_all_F1 = NB_all.cal_measures()\n",
        "\n",
        "print('for Naive Bayes Classifier that tain with all unique words')\n",
        "print('')\n",
        "print('Accuracy = {:4.2f} % '.format(NB_all_Accuracy * 100 ))\n",
        "print('Precision = {:4.2f}  Recall = {:4.2f}  F1 Measure = {:4.2f} '.format(NB_all_Precision , NM_all_Recall  , NB_all_F1))"
      ],
      "execution_count": null,
      "outputs": [
        {
          "output_type": "stream",
          "text": [
            "for Naive Bayes Classifier that tain with all unique words\n",
            "\n",
            "Accuracy = 61.36 % \n",
            "Precision = 0.65  Recall = 0.62  F1 Measure = 0.63 \n"
          ],
          "name": "stdout"
        }
      ]
    },
    {
      "cell_type": "markdown",
      "metadata": {
        "id": "N6OiTFUehocl"
      },
      "source": [
        "Naive Bayes model using bigrams"
      ]
    },
    {
      "cell_type": "code",
      "metadata": {
        "id": "eP3_rCWFcgSZ"
      },
      "source": [
        "class Naive_Bayes_Bigram_Classifier():\n",
        "    def __init__(self , f_set , delta = 0.5):\n",
        "        self.f_set = f_set\n",
        "        self.delta = delta\n",
        "    \n",
        "    def train (self , data):\n",
        "        self.data = data\n",
        "        self.labels = ['moulavi' , 'amir' , 'sanaee' , 'ghaani' , 'bahar' , 'khosro']\n",
        "        self.vocab_size = len(list(set(self.data['all']['unigrams'])))\n",
        "        self.all_vocab = len(self.data[l]['unigrams'])\n",
        "        \n",
        "    def predict (self , beyts):\n",
        "        tok = []\n",
        "        tok += bigram_line(beyts[0])\n",
        "        tok += bigram_line(beyts[1])\n",
        "        self.pred_probs = {'moulavi' : 0 , 'amir' : 0 , 'sanaee' : 0 , 'ghaani' : 0 , 'bahar' : 0 , 'khosro' : 0 }\n",
        "        for l in labels:\n",
        "            prob = 1\n",
        "            c_l = len(self.data[l]['beyt']) / len(self.data['all']['beyt'])\n",
        "            B=0\n",
        "            for t in tok:\n",
        "                try :\n",
        "                    self.data[l]['bigram_count'][t]\n",
        "                    B+=1\n",
        "                except : pass\n",
        "            for t in tok:\n",
        "                token = unigram_line(t)\n",
        "                try: \n",
        "                    c_bi = self.data[l]['bigram_count'][t]\n",
        "                    c_token = self.data[l]['unigram_count'][token[0]]\n",
        "                    prob *= (c_bi - self.delta) / c_token\n",
        "\n",
        "                except : \n",
        "                    try : \n",
        "                        c_unigram = self.data[l]['unigram_count'][token[1]]\n",
        "                        c_token = 1\n",
        "                        prob *= (self.delta * B * c_unigram) / (c_token * self.all_vocab)\n",
        "                    except :\n",
        "                        prob *= 1 / self.vocab_size\n",
        "\n",
        "            self.pred_probs[l] = prob * c_l\n",
        "            \n",
        "        return self.pred_probs\n",
        "    \n",
        "    def score (self , test_d):\n",
        "        true_lable = 0\n",
        "        pred_list=[]\n",
        "        self.confusion_matrix = np.zeros([6,6])\n",
        "        self.measures = {'moulavi' : {'tp': 0 , 'fp' : 0 , 'fn' : 0  , 'Precision' : 0 , 'recall' : 0, 'f1' : 0}\n",
        "                         , 'amir' : {'tp': 0 , 'fp' : 0 , 'fn' : 0  , 'Precision' : 0 , 'recall' : 0, 'f1' : 0}\n",
        "                         , 'sanaee' : {'tp': 0 , 'fp' : 0 , 'fn' : 0  , 'Precision' : 0 , 'recall' : 0, 'f1' : 0} \n",
        "                         , 'ghaani' : {'tp': 0 , 'fp' : 0 , 'fn' : 0  , 'Precision' : 0 , 'recall' : 0, 'f1' : 0}\n",
        "                         , 'bahar' : {'tp': 0 , 'fp' : 0 , 'fn' : 0  , 'Precision' : 0 , 'recall' : 0, 'f1' : 0}\n",
        "                         , 'khosro' : {'tp': 0 , 'fp' : 0 , 'fn' : 0  , 'Precision' : 0 , 'recall' : 0, 'f1' : 0} }\n",
        "        for l in self.labels:\n",
        "            for b in test_d[l]['beyt']:\n",
        "                pred = self.predict(b)\n",
        "                pred = list(pred.values())\n",
        "                max_prob = self.labels[np.argmax(pred)]\n",
        "                pred_list.append(max_prob)\n",
        "                if max_prob == l : \n",
        "                    true_lable += 1\n",
        "                    self.measures[l]['tp'] +=1\n",
        "                    self.confusion_matrix[self.labels.index(l),self.labels.index(l)] += 1\n",
        "                else :\n",
        "                    self.measures[l]['fn'] +=1\n",
        "                    self.measures[max_prob]['fp'] +=1 \n",
        "                    self.confusion_matrix[self.labels.index(l),self.labels.index(max_prob)] += 1\n",
        "                    \n",
        "        self.acc = true_lable / len(test_d['all']['beyt'])\n",
        "        return self.acc , pred_list\n",
        "            \n",
        "    def cal_measures(self , avg = 'macro_avreging'):\n",
        "        for l in self.labels:\n",
        "            self.measures[l]['precision'] = self.measures[l]['tp'] / (self.measures[l]['tp'] \n",
        "                                                                             + self.measures[l]['fp'])\n",
        "            self.measures[l]['recall'] = self.measures[l]['tp'] / (self.measures[l]['tp'] \n",
        "                                                                             + self.measures[l]['fn'])\n",
        "            self.measures[l]['f1'] = (2*self.measures[l]['precision']*self.measures[l]['recall']) / (self.measures[l]['precision'] + self.measures[l]['recall'])\n",
        "        precision , recall = 0 , 0\n",
        "        for l in self.labels:\n",
        "            if avg == 'macro_avreging': c = 1\n",
        "            if avg == 'micro_avreging': c = len(self.data[l]['beyt']) / len(self.data['all']['beyt'])\n",
        "            precision += (c * self.measures[l]['precision'])\n",
        "            recall += (c * self.measures[l]['recall'])\n",
        "        precision /= len(self.labels)\n",
        "        recall /= len(self.labels)\n",
        "        f1 = (2 * precision * recall) / (precision + recall)\n",
        "        return precision, recall, f1"
      ],
      "execution_count": null,
      "outputs": []
    },
    {
      "cell_type": "markdown",
      "metadata": {
        "id": "c1IFIbppjWqI"
      },
      "source": [
        "finding best delta for bigram naive bayes classifier"
      ]
    },
    {
      "cell_type": "code",
      "metadata": {
        "colab": {
          "base_uri": "https://localhost:8080/"
        },
        "id": "BRKUP21Ldp18",
        "outputId": "05f7b679-ff8a-4c46-c071-c0e0455673fd"
      },
      "source": [
        "bigrams_set= list(set(train_data['all']['bigrams']))\n",
        "delta_list = [0.1 , 0.4 , 0.7 ]\n",
        "for d in delta_list : \n",
        "    B_NB = Naive_Bayes_Bigram_Classifier(bigrams_set , delta = d)\n",
        "    B_NB.train(train_data)\n",
        "    acc , pred = B_NB.score(val_data)\n",
        "    print( 'Accuracy of Naive Bayes Classifier with delta={:0.1f}  is  {:4.2f} % '.format( d , acc * 100 ))"
      ],
      "execution_count": null,
      "outputs": [
        {
          "output_type": "stream",
          "text": [
            "Accuracy of Naive Bayes Classifier with delta=0.1  is  60.91 % \n",
            "Accuracy of Naive Bayes Classifier with delta=0.4  is  64.03 % \n",
            "Accuracy of Naive Bayes Classifier with delta=0.7  is  64.00 % \n"
          ],
          "name": "stdout"
        }
      ]
    },
    {
      "cell_type": "markdown",
      "metadata": {
        "id": "MM8ITxKtjhVr"
      },
      "source": [
        "finding best delta for bigram naive bayes classifier"
      ]
    },
    {
      "cell_type": "code",
      "metadata": {
        "colab": {
          "base_uri": "https://localhost:8080/",
          "height": 295
        },
        "id": "eITXiQRtgI9f",
        "outputId": "549987ea-c8bf-46d6-8642-80c52a5266cd"
      },
      "source": [
        "delta_list = [0.1 , 0.2 , 0.3 , 0.4 , 0.5 ,0.6 , 0.7 , 0.8 , 0.9]\n",
        "acc_list = []\n",
        "for d in delta_list : \n",
        "    B_NB = Naive_Bayes_Bigram_Classifier(bigrams_set , delta = d)\n",
        "    B_NB.train(train_data)\n",
        "    acc , pred = B_NB.score(val_data)\n",
        "    acc_list.append(acc)\n",
        "\n",
        "acc_list = [x*100 for x in acc_list]\n",
        "fig, ax = plt.subplots()\n",
        "ax.plot(delta_list , acc_list )\n",
        "ax.set(xlabel='Delta', ylabel='Accuracy %',\n",
        "       title='Optimum delta in Naive Bayes Classification')\n",
        "ax.grid()\n",
        "plt.show()"
      ],
      "execution_count": null,
      "outputs": [
        {
          "output_type": "display_data",
          "data": {
            "image/png": "[encoded data removed]",
            "text/plain": [
              "<Figure size 432x288 with 1 Axes>"
            ]
          },
          "metadata": {
            "tags": [],
            "needs_background": "light"
          }
        }
      ]
    },
    {
      "cell_type": "markdown",
      "metadata": {
        "id": "t3m3DLLAjlLG"
      },
      "source": [
        "accuracy of model on test data"
      ]
    },
    {
      "cell_type": "code",
      "metadata": {
        "colab": {
          "base_uri": "https://localhost:8080/"
        },
        "id": "mPNZ1fpOiY1w",
        "outputId": "1f2c19ba-6a97-44d0-9493-35a17fb2c7ed"
      },
      "source": [
        "B_NB = Naive_Bayes_Bigram_Classifier(bigrams_set , delta = 0.6)\n",
        "B_NB.train(train_data)\n",
        "acc , pred = B_NB.score(test_data)\n",
        "print( 'Accuracy of Naive Bayes Classifier with delta= 0.6  is  {:4.2f} % '.format( acc * 100 ))"
      ],
      "execution_count": null,
      "outputs": [
        {
          "output_type": "stream",
          "text": [
            "Accuracy of Naive Bayes Classifier with delta= 0.6  is  63.40 % \n"
          ],
          "name": "stdout"
        }
      ]
    },
    {
      "cell_type": "markdown",
      "metadata": {
        "id": "42wDY60DlY1u"
      },
      "source": [
        "# Section 5"
      ]
    },
    {
      "cell_type": "code",
      "metadata": {
        "colab": {
          "base_uri": "https://localhost:8080/"
        },
        "id": "bwriHk3XqUHz",
        "outputId": "ff109a7f-e7c3-467b-e76a-5deda7a1f9c6"
      },
      "source": [
        "NB = Naive_Bayes_Bigram_Classifier(bigrams_set , delta = 0.6)\n",
        "NB.train(train_data)\n",
        "acc , pred = NB.score(test_data)\n",
        "print( 'Accuracy of Naive Bayes Classifier with delta= 0.6  is  {:4.2f} % '.format( acc * 100 ))"
      ],
      "execution_count": null,
      "outputs": [
        {
          "output_type": "stream",
          "text": [
            "Accuracy of Naive Bayes Classifier with delta= 0.6  is  63.40 % \n"
          ],
          "name": "stdout"
        }
      ]
    },
    {
      "cell_type": "markdown",
      "metadata": {
        "id": "TjW-6FCUjzE5"
      },
      "source": [
        "Confusion matrix of bigram naive bayes **classifier**"
      ]
    },
    {
      "cell_type": "code",
      "metadata": {
        "colab": {
          "base_uri": "https://localhost:8080/"
        },
        "id": "NDz3qx4oqej1",
        "outputId": "50be5ce4-09eb-4942-f6ff-dd629ccccd6d"
      },
      "source": [
        "print(NB.labels)\n",
        "print('      ')\n",
        "NB.confusion_matrix"
      ],
      "execution_count": null,
      "outputs": [
        {
          "output_type": "stream",
          "text": [
            "['moulavi', 'amir', 'sanaee', 'ghaani', 'bahar', 'khosro']\n",
            "      \n"
          ],
          "name": "stdout"
        },
        {
          "output_type": "execute_result",
          "data": {
            "text/plain": [
              "array([[1718.,   64.,  371.,   77.,   54.,  279.],\n",
              "       [  53., 1426.,  193.,  118.,   44.,   81.],\n",
              "       [ 339.,  207., 1432.,  168.,   98.,  257.],\n",
              "       [ 120.,  162.,  245., 1231.,  102.,  201.],\n",
              "       [ 247.,  158.,  310.,  211.,  944.,  234.],\n",
              "       [ 141.,   68.,  192.,   91.,   56., 1808.]])"
            ]
          },
          "metadata": {
            "tags": []
          },
          "execution_count": 148
        }
      ]
    },
    {
      "cell_type": "markdown",
      "metadata": {
        "id": "TPqA0Rz4HNVm"
      },
      "source": [
        "## section 5-1"
      ]
    },
    {
      "cell_type": "markdown",
      "metadata": {
        "id": "dxi1nhYTkAYV"
      },
      "source": [
        "eddited prepare_data function"
      ]
    },
    {
      "cell_type": "code",
      "metadata": {
        "id": "2ecveNkQvGLV"
      },
      "source": [
        "def prepare2_data(add , labels):\n",
        "    data= {'all': {'bigrams' : [] , 'unigrams' : [] ,'beyt' : [] , 'bigram_count':{} , 'unigram_count':{} }}\n",
        "    poets = []\n",
        "    with open( add ,  encoding = 'UTF-8') as file:\n",
        "        data_lines = file.readlines()\n",
        "    for i in range(0,len(data_lines) , 3):\n",
        "        if (data_lines[i][:-1] not in poets) and (data_lines[i][:-1] in labels) : \n",
        "            poets.append(data_lines[i][:-1])\n",
        "            data[data_lines[i][:-1]] = {'bigrams' : [] , 'unigrams' : [] ,'beyt' : [] , \n",
        "                                        'bigram_count':{} , 'unigram_count':{} }\n",
        "        if data_lines[i][:-1] in labels :\n",
        "            data[data_lines[i][:-1]]['beyt'] += [[data_lines[i+1][:-1] , data_lines[i+2][:-1]]]\n",
        "            data['all']['beyt'] += [[data_lines[i+1][:-1] , data_lines[i+2][:-1]]]\n",
        "\n",
        "            tokens =[]\n",
        "            tokens += word_tokenize(data_lines[i+1][:-1])\n",
        "            tokens += word_tokenize(data_lines[i+2][:-1])\n",
        "            tokens_set = list(set(tokens))\n",
        "            for w in tokens_set:\n",
        "                if w in data['all']['unigram_count']:\n",
        "                    data['all']['unigram_count'][w] +=1\n",
        "                else :\n",
        "                    data['all']['unigram_count'][w] =1\n",
        "\n",
        "                if w in data[data_lines[i][:-1]]['unigram_count']:\n",
        "                    data[data_lines[i][:-1]]['unigram_count'][w] +=1\n",
        "                else: \n",
        "                    data[data_lines[i][:-1]]['unigram_count'][w] =1\n",
        "\n",
        "            data[data_lines[i][:-1]]['unigrams'] += tokens\n",
        "            data['all']['unigrams'] += tokens\n",
        "\n",
        "            for mes in range(2):\n",
        "                tokens =[]\n",
        "                tokens += word_tokenize(data_lines[i+1+mes][:-1])\n",
        "                for idx in range(len(tokens)-1):\n",
        "                    new_bi = tokens[idx] + ' ' + tokens[idx+1]\n",
        "                    if new_bi in data['all']['bigram_count']:\n",
        "                        data['all']['bigram_count'][new_bi] +=1\n",
        "                    else :\n",
        "                        data['all']['bigram_count'][new_bi] =1\n",
        "\n",
        "                    if new_bi in data[data_lines[i][:-1]]['bigram_count']:\n",
        "                        data[data_lines[i][:-1]]['bigram_count'][new_bi] +=1\n",
        "                    else: \n",
        "                        data[data_lines[i][:-1]]['bigram_count'][new_bi] =1\n",
        "\n",
        "                    data[data_lines[i][:-1]]['bigrams'].append(new_bi)\n",
        "                    data['all']['bigrams'].append(new_bi)\n",
        "    return data\n"
      ],
      "execution_count": null,
      "outputs": []
    },
    {
      "cell_type": "code",
      "metadata": {
        "id": "B8eINHsuAtXc"
      },
      "source": [
        "train2_data = prepare2_data('/content/drive/MyDrive/nlp/HW1/train.txt' , ['moulavi' , 'sanaee'])\n",
        "test2_data = prepare2_data('/content/drive/MyDrive/nlp/HW1/test.txt' , ['moulavi' , 'sanaee'])"
      ],
      "execution_count": null,
      "outputs": []
    },
    {
      "cell_type": "markdown",
      "metadata": {
        "id": "QR_5eKLAkI0A"
      },
      "source": [
        "eddited Naive_Bayes_Bigram_Classifier class"
      ]
    },
    {
      "cell_type": "code",
      "metadata": {
        "id": "3MlvwY41A0So"
      },
      "source": [
        "class Naive_Bayes_Bigram_Classifier():\n",
        "    def __init__(self , f_set , delta = 0.5   ):\n",
        "        self.f_set = f_set\n",
        "        self.delta = delta\n",
        "        self.labels = ['moulavi','sanaee']\n",
        "    \n",
        "    def train (self , data):\n",
        "        self.data = data\n",
        "        self.vocab_size = len(list(set(self.data['all']['unigrams'])))\n",
        "        self.all_vocab = len(self.data['all']['unigrams'])\n",
        "        \n",
        "    def predict (self , beyts):\n",
        "        tok = []\n",
        "        tok += bigram_line(beyts[0])\n",
        "        tok += bigram_line(beyts[1])\n",
        "        self.pred_probs = {'moulavi' : 0 , 'sanaee' : 0 }\n",
        "        for l in self.labels:\n",
        "            prob = 1\n",
        "            c_l = len(self.data[l]['beyt']) / len(self.data['all']['beyt'])\n",
        "            B=0\n",
        "            for t in tok:\n",
        "                try :\n",
        "                    self.data[l]['bigram_count'][t]\n",
        "                    B+=1\n",
        "                except : pass\n",
        "            for t in tok:\n",
        "                token = unigram_line(t)\n",
        "                try: \n",
        "                    c_bi = self.data[l]['bigram_count'][t]\n",
        "                    c_token = self.data[l]['unigram_count'][token[0]]\n",
        "                    prob *= (c_bi - self.delta) / c_token\n",
        "\n",
        "                except : \n",
        "                    try : \n",
        "                        c_unigram = self.data[l]['unigram_count'][token[1]]\n",
        "                        c_token = 1\n",
        "                        prob *= (self.delta * B * c_unigram) / (c_token * self.all_vocab)\n",
        "                    except :\n",
        "                        prob *= 1 / self.vocab_size\n",
        "\n",
        "            self.pred_probs[l] = prob * c_l\n",
        "            \n",
        "        return self.pred_probs\n",
        "    \n",
        "    def score (self , test_d):\n",
        "        true_lable = 0\n",
        "        pred_list=[]\n",
        "        self.confusion_matrix = np.zeros([2,2])\n",
        "        self.measures = {'moulavi' : {'tp': 0 , 'fp' : 0 , 'fn' : 0  , 'Precision' : 0 , 'recall' : 0, 'f1' : 0}\n",
        "                         , 'sanaee' : {'tp': 0 , 'fp' : 0 , 'fn' : 0  , 'Precision' : 0 , 'recall' : 0, 'f1' : 0} }\n",
        "        for l in self.labels:\n",
        "            for b in test_d[l]['beyt']:\n",
        "                pred = self.predict(b)\n",
        "                pred = list(pred.values())\n",
        "                max_prob = self.labels[np.argmax(pred)]\n",
        "                pred_list.append(max_prob)\n",
        "                if max_prob == l : \n",
        "                    true_lable += 1\n",
        "                    self.measures[l]['tp'] +=1\n",
        "                    self.confusion_matrix[self.labels.index(l),self.labels.index(l)] += 1\n",
        "                else :\n",
        "                    self.measures[l]['fn'] +=1\n",
        "                    self.measures[max_prob]['fp'] +=1 \n",
        "                    self.confusion_matrix[self.labels.index(l),self.labels.index(max_prob)] += 1\n",
        "                    \n",
        "        self.acc = true_lable / len(test_d['all']['beyt'])\n",
        "        return self.acc , pred_list\n",
        "            \n",
        "    def cal_measures(self , avg = 'macro_avreging'):\n",
        "        for l in self.labels:\n",
        "            self.measures[l]['precision'] = self.measures[l]['tp'] / (self.measures[l]['tp'] \n",
        "                                                                             + self.measures[l]['fp'])\n",
        "            self.measures[l]['recall'] = self.measures[l]['tp'] / (self.measures[l]['tp'] \n",
        "                                                                             + self.measures[l]['fn'])\n",
        "            self.measures[l]['f1'] = (2*self.measures[l]['precision']*self.measures[l]['recall']) / (self.measures[l]['precision'] + self.measures[l]['recall'])\n",
        "        precision , recall = 0 , 0\n",
        "        for l in self.labels:\n",
        "            if avg == 'macro_avreging': c = 1\n",
        "            if avg == 'micro_avreging': c = len(self.data[l]['beyt']) / len(self.data['all']['beyt'])\n",
        "            precision += (c * self.measures[l]['precision'])\n",
        "            recall += (c * self.measures[l]['recall'])\n",
        "        precision /= len(self.labels)\n",
        "        recall /= len(self.labels)\n",
        "        f1 = (2 * precision * recall) / (precision + recall)\n",
        "        return precision, recall, f1\n",
        " "
      ],
      "execution_count": null,
      "outputs": []
    },
    {
      "cell_type": "markdown",
      "metadata": {
        "id": "QLqyCbtKkbCs"
      },
      "source": [
        "Accuracy and Confusion Matrix "
      ]
    },
    {
      "cell_type": "code",
      "metadata": {
        "colab": {
          "base_uri": "https://localhost:8080/"
        },
        "id": "CPakHKYICLzm",
        "outputId": "9676493d-00ca-4a9e-883e-914cd56d772e"
      },
      "source": [
        "bigrams_set= list(set(train2_data['all']['bigrams']))\n",
        "bnb = Naive_Bayes_Bigram_Classifier(bigrams_set , delta=0.6 )\n",
        "bnb.train(train2_data)\n",
        "acc , pred = bnb.score(test2_data)\n",
        "print('Accuracy = {:4.2f} % '.format(acc * 100))\n",
        "print('  ')\n",
        "print(bnb.confusion_matrix)"
      ],
      "execution_count": null,
      "outputs": [
        {
          "output_type": "stream",
          "text": [
            "Accuracy = 78.55 % \n",
            "  \n",
            "[[1987.  576.]\n",
            " [ 510. 1991.]]\n"
          ],
          "name": "stdout"
        }
      ]
    },
    {
      "cell_type": "markdown",
      "metadata": {
        "id": "0bG7oxFrHHO9"
      },
      "source": [
        "## section 5-2"
      ]
    },
    {
      "cell_type": "code",
      "metadata": {
        "id": "f7s3mItLE5Wf"
      },
      "source": [
        "class Naive_Bayes_Bigram_Classifier():\n",
        "    def __init__(self , f_set , delta = 0.5):\n",
        "        self.f_set = f_set\n",
        "        self.delta = delta\n",
        "        self.labels = ['moulavi','amir']\n",
        "    \n",
        "    def train (self , data):\n",
        "        self.data = data\n",
        "        self.vocab_size = len(list(set(self.data['all']['unigrams'])))\n",
        "        self.all_vocab = len(self.data['all']['unigrams'])\n",
        "        \n",
        "    def predict (self , beyts):\n",
        "        tok = []\n",
        "        tok += bigram_line(beyts[0])\n",
        "        tok += bigram_line(beyts[1])\n",
        "        self.pred_probs = {'moulavi' : 0 , 'amir' : 0 }\n",
        "        for l in self.labels:\n",
        "            prob = 1\n",
        "            c_l = len(self.data[l]['beyt']) / len(self.data['all']['beyt'])\n",
        "            B=0\n",
        "            for t in tok:\n",
        "                try :\n",
        "                    self.data[l]['bigram_count'][t]\n",
        "                    B+=1\n",
        "                except : pass\n",
        "            for t in tok:\n",
        "                token = unigram_line(t)\n",
        "                try: \n",
        "                    c_bi = self.data[l]['bigram_count'][t]\n",
        "                    c_token = self.data[l]['unigram_count'][token[0]]\n",
        "                    prob *= (c_bi - self.delta) / c_token\n",
        "\n",
        "                except : \n",
        "                    try : \n",
        "                        c_unigram = self.data[l]['unigram_count'][token[1]]\n",
        "                        c_token = 1\n",
        "                        prob *= (self.delta * B * c_unigram) / (c_token * self.all_vocab)\n",
        "                    except :\n",
        "                        prob *= 1 / self.vocab_size\n",
        "\n",
        "            self.pred_probs[l] = prob * c_l\n",
        "            \n",
        "        return self.pred_probs\n",
        "    \n",
        "    def score (self , test_d):\n",
        "        true_lable = 0\n",
        "        pred_list=[]\n",
        "        self.confusion_matrix = np.zeros([2,2])\n",
        "        self.measures = {'moulavi' : {'tp': 0 , 'fp' : 0 , 'fn' : 0  , 'Precision' : 0 , 'recall' : 0, 'f1' : 0}\n",
        "                         , 'amir' : {'tp': 0 , 'fp' : 0 , 'fn' : 0  , 'Precision' : 0 , 'recall' : 0, 'f1' : 0} }\n",
        "        for l in self.labels:\n",
        "            for b in test_d[l]['beyt']:\n",
        "                pred = self.predict(b)\n",
        "                pred = list(pred.values())\n",
        "                max_prob = self.labels[np.argmax(pred)]\n",
        "                pred_list.append(max_prob)\n",
        "                if max_prob == l : \n",
        "                    true_lable += 1\n",
        "                    self.measures[l]['tp'] +=1\n",
        "                    self.confusion_matrix[self.labels.index(l),self.labels.index(l)] += 1\n",
        "                else :\n",
        "                    self.measures[l]['fn'] +=1\n",
        "                    self.measures[max_prob]['fp'] +=1 \n",
        "                    self.confusion_matrix[self.labels.index(l),self.labels.index(max_prob)] += 1\n",
        "                    \n",
        "        self.acc = true_lable / len(test_d['all']['beyt'])\n",
        "        return self.acc , pred_list\n",
        "            \n",
        "    def cal_measures(self , avg = 'macro_avreging'):\n",
        "        for l in self.labels:\n",
        "            self.measures[l]['precision'] = self.measures[l]['tp'] / (self.measures[l]['tp'] \n",
        "                                                                             + self.measures[l]['fp'])\n",
        "            self.measures[l]['recall'] = self.measures[l]['tp'] / (self.measures[l]['tp'] \n",
        "                                                                             + self.measures[l]['fn'])\n",
        "            self.measures[l]['f1'] = (2*self.measures[l]['precision']*self.measures[l]['recall']) / (self.measures[l]['precision'] + self.measures[l]['recall'])\n",
        "        precision , recall = 0 , 0\n",
        "        for l in self.labels:\n",
        "            if avg == 'macro_avreging': c = 1\n",
        "            if avg == 'micro_avreging': c = len(self.data[l]['beyt']) / len(self.data['all']['beyt'])\n",
        "            precision += (c * self.measures[l]['precision'])\n",
        "            recall += (c * self.measures[l]['recall'])\n",
        "        precision /= len(self.labels)\n",
        "        recall /= len(self.labels)\n",
        "        f1 = (2 * precision * recall) / (precision + recall)\n",
        "        return precision, recall, f1\n",
        " "
      ],
      "execution_count": null,
      "outputs": []
    },
    {
      "cell_type": "code",
      "metadata": {
        "colab": {
          "base_uri": "https://localhost:8080/"
        },
        "id": "IQ8qItM4FE1I",
        "outputId": "57a10a5f-c6ee-4f0c-b9aa-cf501e3967da"
      },
      "source": [
        "train2_data = prepare2_data('/content/drive/MyDrive/nlp/HW1/train.txt' , ['moulavi' , 'amir'])\n",
        "test2_data = prepare2_data('/content/drive/MyDrive/nlp/HW1/test.txt' , ['moulavi' , 'amir'])\n",
        "\n",
        "bigrams_set= list(set(train2_data['all']['bigrams']))\n",
        "bnb = Naive_Bayes_Bigram_Classifier(bigrams_set , delta=0.6 )\n",
        "bnb.train(train2_data)\n",
        "acc , pred = bnb.score(test2_data)\n",
        "print('Accuracy = {:4.2f} % '.format(acc * 100))\n",
        "print('  ')\n",
        "print(bnb.confusion_matrix)"
      ],
      "execution_count": null,
      "outputs": [
        {
          "output_type": "stream",
          "text": [
            "Accuracy = 91.85 % \n",
            "  \n",
            "[[2343.  220.]\n",
            " [ 145. 1770.]]\n"
          ],
          "name": "stdout"
        }
      ]
    },
    {
      "cell_type": "markdown",
      "metadata": {
        "id": "FYySRG8kGt8F"
      },
      "source": [
        "## section 5-3"
      ]
    },
    {
      "cell_type": "code",
      "metadata": {
        "id": "nei84OG8F4u9"
      },
      "source": [
        "class Naive_Bayes_Bigram_Classifier():\n",
        "    def __init__(self , f_set , delta = 0.5):\n",
        "        self.f_set = f_set\n",
        "        self.delta = delta\n",
        "        self.labels = ['bahar','ghaani']\n",
        "    \n",
        "    def train (self , data):\n",
        "        self.data = data\n",
        "        self.vocab_size = len(list(set(self.data['all']['unigrams'])))\n",
        "        self.all_vocab = len(self.data['all']['unigrams'])\n",
        "        \n",
        "    def predict (self , beyts):\n",
        "        tok = []\n",
        "        tok += bigram_line(beyts[0])\n",
        "        tok += bigram_line(beyts[1])\n",
        "        self.pred_probs = {'bahar' : 0 , 'ghaani' : 0 }\n",
        "        for l in self.labels:\n",
        "            prob = 1\n",
        "            c_l = len(self.data[l]['beyt']) / len(self.data['all']['beyt'])\n",
        "            B=0\n",
        "            for t in tok:\n",
        "                try :\n",
        "                    self.data[l]['bigram_count'][t]\n",
        "                    B+=1\n",
        "                except : pass\n",
        "            for t in tok:\n",
        "                token = unigram_line(t)\n",
        "                try: \n",
        "                    c_bi = self.data[l]['bigram_count'][t]\n",
        "                    c_token = self.data[l]['unigram_count'][token[0]]\n",
        "                    prob *= (c_bi - self.delta) / c_token\n",
        "\n",
        "                except : \n",
        "                    try : \n",
        "                        c_unigram = self.data[l]['unigram_count'][token[1]]\n",
        "                        c_token = 1\n",
        "                        prob *= (self.delta * B * c_unigram) / (c_token * self.all_vocab)\n",
        "                    except :\n",
        "                        prob *= 1 / self.vocab_size\n",
        "\n",
        "            self.pred_probs[l] = prob * c_l\n",
        "            \n",
        "        return self.pred_probs\n",
        "    \n",
        "    def score (self , test_d):\n",
        "        true_lable = 0\n",
        "        pred_list=[]\n",
        "        self.confusion_matrix = np.zeros([2,2])\n",
        "        self.measures = {'bahar' : {'tp': 0 , 'fp' : 0 , 'fn' : 0  , 'Precision' : 0 , 'recall' : 0, 'f1' : 0}\n",
        "                         , 'ghaani' : {'tp': 0 , 'fp' : 0 , 'fn' : 0  , 'Precision' : 0 , 'recall' : 0, 'f1' : 0} }\n",
        "        for l in self.labels:\n",
        "            for b in test_d[l]['beyt']:\n",
        "                pred = self.predict(b)\n",
        "                pred = list(pred.values())\n",
        "                max_prob = self.labels[np.argmax(pred)]\n",
        "                pred_list.append(max_prob)\n",
        "                if max_prob == l : \n",
        "                    true_lable += 1\n",
        "                    self.measures[l]['tp'] +=1\n",
        "                    self.confusion_matrix[self.labels.index(l),self.labels.index(l)] += 1\n",
        "                else :\n",
        "                    self.measures[l]['fn'] +=1\n",
        "                    self.measures[max_prob]['fp'] +=1 \n",
        "                    self.confusion_matrix[self.labels.index(l),self.labels.index(max_prob)] += 1\n",
        "                    \n",
        "        self.acc = true_lable / len(test_d['all']['beyt'])\n",
        "        return self.acc , pred_list\n",
        "            \n",
        "    def cal_measures(self , avg = 'macro_avreging'):\n",
        "        for l in self.labels:\n",
        "            self.measures[l]['precision'] = self.measures[l]['tp'] / (self.measures[l]['tp'] \n",
        "                                                                             + self.measures[l]['fp'])\n",
        "            self.measures[l]['recall'] = self.measures[l]['tp'] / (self.measures[l]['tp'] \n",
        "                                                                             + self.measures[l]['fn'])\n",
        "            self.measures[l]['f1'] = (2*self.measures[l]['precision']*self.measures[l]['recall']) / (self.measures[l]['precision'] + self.measures[l]['recall'])\n",
        "        precision , recall = 0 , 0\n",
        "        for l in self.labels:\n",
        "            if avg == 'macro_avreging': c = 1\n",
        "            if avg == 'micro_avreging': c = len(self.data[l]['beyt']) / len(self.data['all']['beyt'])\n",
        "            precision += (c * self.measures[l]['precision'])\n",
        "            recall += (c * self.measures[l]['recall'])\n",
        "        precision /= len(self.labels)\n",
        "        recall /= len(self.labels)\n",
        "        f1 = (2 * precision * recall) / (precision + recall)\n",
        "        return precision, recall, f1\n",
        " "
      ],
      "execution_count": null,
      "outputs": []
    },
    {
      "cell_type": "code",
      "metadata": {
        "colab": {
          "base_uri": "https://localhost:8080/"
        },
        "id": "LXuJ9cQFF8uC",
        "outputId": "c3ef0224-5ed2-4a3d-9db1-922068b6bb6f"
      },
      "source": [
        "train2_data = prepare2_data('/content/drive/MyDrive/nlp/HW1/train.txt' , ['bahar' , 'ghaani'])\n",
        "test2_data = prepare2_data('/content/drive/MyDrive/nlp/HW1/test.txt' , ['bahar' , 'ghaani'])\n",
        "\n",
        "bigrams_set= list(set(train2_data['all']['bigrams']))\n",
        "bnb = Naive_Bayes_Bigram_Classifier(bigrams_set , delta=0.6 )\n",
        "bnb.train(train2_data)\n",
        "acc , pred = bnb.score(test2_data)\n",
        "print('Accuracy = {:4.2f} % '.format(acc * 100))\n",
        "print('  ')\n",
        "print(bnb.confusion_matrix)"
      ],
      "execution_count": null,
      "outputs": [
        {
          "output_type": "stream",
          "text": [
            "Accuracy = 79.76 % \n",
            "  \n",
            "[[1538.  566.]\n",
            " [ 277. 1784.]]\n"
          ],
          "name": "stdout"
        }
      ]
    }
  ]
}